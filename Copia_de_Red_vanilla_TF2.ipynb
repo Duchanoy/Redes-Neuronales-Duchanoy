{
  "nbformat": 4,
  "nbformat_minor": 0,
  "metadata": {
    "colab": {
      "name": "Copia de Red_vanilla_TF2.ipynb",
      "provenance": [],
      "include_colab_link": true
    },
    "kernelspec": {
      "name": "python3",
      "display_name": "Python 3"
    },
    "accelerator": "GPU"
  },
  "cells": [
    {
      "cell_type": "markdown",
      "metadata": {
        "id": "view-in-github",
        "colab_type": "text"
      },
      "source": [
        "<a href=\"https://colab.research.google.com/github/alfredoEP/Redes-Neuronales-Duchanoy/blob/master/Copia_de_Red_vanilla_TF2.ipynb\" target=\"_parent\"><img src=\"https://colab.research.google.com/assets/colab-badge.svg\" alt=\"Open In Colab\"/></a>"
      ]
    },
    {
      "cell_type": "markdown",
      "metadata": {
        "colab_type": "text",
        "id": "jPitwRrcRpma"
      },
      "source": [
        "### Importación de Tensorflow"
      ]
    },
    {
      "cell_type": "code",
      "metadata": {
        "id": "e7DwA6QEYIds",
        "colab_type": "code",
        "outputId": "95547104-8fbf-48a8-934a-7bf305ba3ae1",
        "colab": {
          "base_uri": "https://localhost:8080/",
          "height": 35
        }
      },
      "source": [
        "%tensorflow_version 2.x"
      ],
      "execution_count": 0,
      "outputs": [
        {
          "output_type": "stream",
          "text": [
            "TensorFlow 2.x selected.\n"
          ],
          "name": "stdout"
        }
      ]
    },
    {
      "cell_type": "code",
      "metadata": {
        "colab_type": "code",
        "id": "EPZtMACjRpmc",
        "colab": {}
      },
      "source": [
        "import tensorflow as tf\n",
        "import numpy as np\n",
        "import matplotlib.pyplot as plt\n",
        "%matplotlib inline\n",
        "from sklearn.preprocessing import LabelEncoder\n",
        "from sklearn.preprocessing import OneHotEncoder"
      ],
      "execution_count": 0,
      "outputs": []
    },
    {
      "cell_type": "markdown",
      "metadata": {
        "colab_type": "text",
        "id": "6LvwzIXaRpmf"
      },
      "source": [
        "### Importación de datos |"
      ]
    },
    {
      "cell_type": "code",
      "metadata": {
        "colab_type": "code",
        "id": "4B4h-7glRpmg",
        "colab": {}
      },
      "source": [
        "mnist = tf.keras.datasets.mnist\n",
        "\n",
        "(x_train, y_train), (x_test, y_test) = mnist.load_data( )"
      ],
      "execution_count": 0,
      "outputs": []
    },
    {
      "cell_type": "markdown",
      "metadata": {
        "colab_type": "text",
        "id": "wi_nqCWxRpmo"
      },
      "source": [
        "### verificando los datos de prueba"
      ]
    },
    {
      "cell_type": "code",
      "metadata": {
        "id": "FGtfUZ4me432",
        "colab_type": "code",
        "outputId": "0410c3db-33e3-4933-fd89-2638bbab8965",
        "colab": {
          "base_uri": "https://localhost:8080/",
          "height": 35
        }
      },
      "source": [
        "y_train.shape"
      ],
      "execution_count": 0,
      "outputs": [
        {
          "output_type": "execute_result",
          "data": {
            "text/plain": [
              "(60000,)"
            ]
          },
          "metadata": {
            "tags": []
          },
          "execution_count": 4
        }
      ]
    },
    {
      "cell_type": "code",
      "metadata": {
        "colab_type": "code",
        "id": "AcqBlhxhRpmo",
        "outputId": "157296ef-fbf9-499e-ef7d-0211bda0a797",
        "colab": {
          "base_uri": "https://localhost:8080/",
          "height": 35
        }
      },
      "source": [
        "x_train.shape"
      ],
      "execution_count": 0,
      "outputs": [
        {
          "output_type": "execute_result",
          "data": {
            "text/plain": [
              "(60000, 28, 28)"
            ]
          },
          "metadata": {
            "tags": []
          },
          "execution_count": 5
        }
      ]
    },
    {
      "cell_type": "code",
      "metadata": {
        "colab_type": "code",
        "id": "1uOJRGzQRpmu",
        "outputId": "1a6e1e11-4b10-4345-bce2-71dad444438d",
        "colab": {
          "base_uri": "https://localhost:8080/",
          "height": 283
        }
      },
      "source": [
        "imagendemo=x_train[24]\n",
        "plt.imshow(imagendemo,cmap='gray')"
      ],
      "execution_count": 0,
      "outputs": [
        {
          "output_type": "execute_result",
          "data": {
            "text/plain": [
              "<matplotlib.image.AxesImage at 0x7fb3060442e8>"
            ]
          },
          "metadata": {
            "tags": []
          },
          "execution_count": 6
        },
        {
          "output_type": "display_data",
          "data": {
            "image/png": "[encoded data removed]",
            "text/plain": [
              "<Figure size 432x288 with 1 Axes>"
            ]
          },
          "metadata": {
            "tags": []
          }
        }
      ]
    },
    {
      "cell_type": "code",
      "metadata": {
        "colab_type": "code",
        "id": "ScIUfHpaQQyJ",
        "colab": {}
      },
      "source": [
        "def image_matrix(img):\n",
        "    print('\\n'.join([''.join(['{:4}'.format(int(round(item*255))) for item in row]) \n",
        "      for row in img]))"
      ],
      "execution_count": 0,
      "outputs": []
    },
    {
      "cell_type": "code",
      "metadata": {
        "colab_type": "code",
        "id": "O6AK5fDJQQyM",
        "outputId": "cebfa8b7-b9aa-415b-d9f9-5b93a6183f58",
        "colab": {
          "base_uri": "https://localhost:8080/",
          "height": 526
        }
      },
      "source": [
        "image_matrix(imagendemo)"
      ],
      "execution_count": 0,
      "outputs": [
        {
          "output_type": "stream",
          "text": [
            "   0   0   0   0   0   0   0   0   0   0   0   0   0   0   0   0   0   0   0   0   0   0   0   0   0   0   0   0\n",
            "   0   0   0   0   0   0   0   0   0   0   0   0   0   0   0   0   0   0   0   0   0   0   0   0   0   0   0   0\n",
            "   0   0   0   0   0   0   0   0   0   0   0   0   0   0   0   0   0   0   0   0   0   0   0   0   0   0   0   0\n",
            "   0   0   0   0   0   0   0   0   0   0   0   0   0   0   0423305661014025   0   0   0   0   0   0   0   0   0   0\n",
            "   0   0   0   0   0   0   0   0   0   0   0   0   0   0   05023564770555901275   0   0   0   0   0   0   0   0   0\n",
            "   0   0   0   0   0   0   0   0   0   0   0   0   0   073956349564770647702295   0   0   0   0   0   0   0   0   0\n",
            "   0   0   0   0   0   0   0   0   0   0   0   0   0   011475647706477044370 510   0   0   0   0   0   0   0   0   0\n",
            "   0   0   0   0   0   0   0   0   0   0   0   0   0102041820647706477021675   0   0   0   0   0   0   0   0   0   0\n",
            "   0   0   0   0   0   0   0   0   0   0   0   0   03723064770647706477021675   0   0   0   0   0   0   0   0   0   0\n",
            "   0   0   0   0   0   0   0   0   0   0   0   0257556247564770647706477021675   0   0   0   0   0   0   0   0   0   0\n",
            "   0   0   0   0   0   0   0   0   0   0   024735632406477052020647706477021675   0   0   0   0   0   0   0   0   0   0\n",
            "   0   0   0   0   0   03060150452499038505604356477064770277958925647706477021675   0   0   0   0   0   0   0   0   0   0\n",
            "   0   0   0   0   0   0104555508064770647706094539015943510208160647706477021675   0   0   0   0   0   0   0   0   0   0\n",
            "   0   0   0   0   0   0   0178511220112207650   0   0   08160647706477024480   0   0   0   0   0   0   0   0   0   0\n",
            "   0   0   0   0   0   0   0   0   0   0   0   0   0   04845586506477044370   0   0   0   0   0   0   0   0   0   0\n",
            "   0   0   0   0   0   0   0   0   0   0   0   0   0   0   0502356477028050   0   0   0   0   0   0   0   0   0   0\n",
            "   0   0   0   0   0   0   0   0   0   0   0   0   0   0   0502356477021675   0   0   0   0   0   0   0   0   0   0\n",
            "   0   0   0   0   0   0   0   0   0   0   0   0   0   0   0502356451516065   0   0   0   0   0   0   0   0   0   0\n",
            "   0   0   0   0   0   0   0   0   0   094351377013770114756630214205635521420535579054131019890   0   0   0   0   0   0\n",
            "   0   0   0   0   0   0   015301045535955622206477064770632406018064770647706477059415609456477035190   0   0   0   0   0   0\n",
            "   0   0   0   0   0   05865425856477064770647706477058395581404717535190351903519035190351903519011220   0   0   0   0   0   0\n",
            "   0   0   0   0   0   02881564770647706477045645163201275   0   0   0   0   0   0   0   0   0   0   0   0   0   0   0\n",
            "   0   0   0   0   0   08160532954666524735   0   0   0   0   0   0   0   0   0   0   0   0   0   0   0   0   0   0\n",
            "   0   0   0   0   0   0   0   0   0   0   0   0   0   0   0   0   0   0   0   0   0   0   0   0   0   0   0   0\n",
            "   0   0   0   0   0   0   0   0   0   0   0   0   0   0   0   0   0   0   0   0   0   0   0   0   0   0   0   0\n",
            "   0   0   0   0   0   0   0   0   0   0   0   0   0   0   0   0   0   0   0   0   0   0   0   0   0   0   0   0\n",
            "   0   0   0   0   0   0   0   0   0   0   0   0   0   0   0   0   0   0   0   0   0   0   0   0   0   0   0   0\n",
            "   0   0   0   0   0   0   0   0   0   0   0   0   0   0   0   0   0   0   0   0   0   0   0   0   0   0   0   0\n"
          ],
          "name": "stdout"
        }
      ]
    },
    {
      "cell_type": "markdown",
      "metadata": {
        "id": "OONgVinO2Mj5",
        "colab_type": "text"
      },
      "source": [
        "Preparando los datos para el entrenamiento\n",
        " \n",
        "La x debe ser convertida a un vector para que pueda ser procesada por la red perceptrón profunda \n"
      ]
    },
    {
      "cell_type": "code",
      "metadata": {
        "id": "ssgZkgSJ2HIX",
        "colab_type": "code",
        "outputId": "b4b723f2-dbec-4fbb-f67d-24ade35a0a21",
        "colab": {
          "base_uri": "https://localhost:8080/",
          "height": 35
        }
      },
      "source": [
        "x_train=x_train.reshape(-1,28*28).astype('float32')\n",
        "x_test=x_test.reshape(-1,28*28).astype('float32')\n",
        "x_train.shape"
      ],
      "execution_count": 0,
      "outputs": [
        {
          "output_type": "execute_result",
          "data": {
            "text/plain": [
              "(60000, 784)"
            ]
          },
          "metadata": {
            "tags": []
          },
          "execution_count": 9
        }
      ]
    },
    {
      "cell_type": "code",
      "metadata": {
        "id": "sniyszYT6wjg",
        "colab_type": "code",
        "outputId": "5648b830-218c-4120-ae7d-85db603d3f91",
        "colab": {
          "base_uri": "https://localhost:8080/",
          "height": 145
        }
      },
      "source": [
        "x_train"
      ],
      "execution_count": 0,
      "outputs": [
        {
          "output_type": "execute_result",
          "data": {
            "text/plain": [
              "array([[0., 0., 0., ..., 0., 0., 0.],\n",
              "       [0., 0., 0., ..., 0., 0., 0.],\n",
              "       [0., 0., 0., ..., 0., 0., 0.],\n",
              "       ...,\n",
              "       [0., 0., 0., ..., 0., 0., 0.],\n",
              "       [0., 0., 0., ..., 0., 0., 0.],\n",
              "       [0., 0., 0., ..., 0., 0., 0.]], dtype=float32)"
            ]
          },
          "metadata": {
            "tags": []
          },
          "execution_count": 10
        }
      ]
    },
    {
      "cell_type": "markdown",
      "metadata": {
        "id": "fIuVO17v31zI",
        "colab_type": "text"
      },
      "source": [
        "Las salidas y deben se codificadas en one hot"
      ]
    },
    {
      "cell_type": "code",
      "metadata": {
        "id": "cJ-cam6z4I-t",
        "colab_type": "code",
        "outputId": "e47681f3-79b5-40ed-c169-25395020bae5",
        "colab": {
          "base_uri": "https://localhost:8080/",
          "height": 35
        }
      },
      "source": [
        "# onehot encode\n",
        "onehot_encoder = OneHotEncoder(sparse=False)\n",
        "y_train = y_train.reshape(len(y_train), 1)\n",
        "y_train_onehot = onehot_encoder.fit_transform(y_train)\n",
        "\n",
        "y_test = y_test.reshape(len(y_test), 1)\n",
        "y_test_onehot = onehot_encoder.fit_transform(y_test)\n",
        "\n",
        "y_train_onehot.shape"
      ],
      "execution_count": 0,
      "outputs": [
        {
          "output_type": "execute_result",
          "data": {
            "text/plain": [
              "(60000, 10)"
            ]
          },
          "metadata": {
            "tags": []
          },
          "execution_count": 11
        }
      ]
    },
    {
      "cell_type": "markdown",
      "metadata": {
        "colab_type": "text",
        "id": "hUPvkJ1URpmy"
      },
      "source": [
        "### Declarando la arquitectura\n",
        "\n",
        "Generando función "
      ]
    },
    {
      "cell_type": "code",
      "metadata": {
        "id": "8Y2usE7in_2p",
        "colab_type": "code",
        "colab": {}
      },
      "source": [
        "class DNN_model(object):\n",
        "  def __init__(self,\n",
        "               n_nodes_hl1=500,\n",
        "               n_nodes_hl2=500,\n",
        "               n_nodes_hl3=500,\n",
        "               n_classes=10):\n",
        "    self.h1LW = tf.Variable(np.random.rand(784, n_nodes_hl1),name=\"hl1weigths\",dtype=\"float32\")\n",
        "    self.h1LB = tf.Variable(np.random.rand(n_nodes_hl1),name=\"hl1bias\",dtype=\"float32\")\n",
        "    self.h2LW = tf.Variable(np.random.rand(n_nodes_hl1, n_nodes_hl2),name=\"hl2weigths\",dtype=\"float32\")\n",
        "    self.h2LB = tf.Variable(np.random.rand(n_nodes_hl2),name=\"hl2bias\",dtype=\"float32\")\n",
        "    self.h3LW = tf.Variable(np.random.rand(n_nodes_hl2, n_nodes_hl3),name=\"hl3weigths\",dtype=\"float32\")\n",
        "    self.h3LB = tf.Variable(np.random.rand(n_nodes_hl3),name=\"hl3bias\",dtype=\"float32\")\n",
        "    self.outW = tf.Variable(np.random.rand(n_nodes_hl3, n_classes),name=\"outweigths\",dtype=\"float32\")\n",
        "    self.outB = tf.Variable(np.random.rand(n_classes),name=\"outbias\",dtype=\"float32\")\n",
        "    self.trainable_variables =[self.h1LW,self.h1LB,self.h2LW,self.h2LB,self.h3LW,self.h3LB,self.outW,self.outB]          \n",
        "  def __call__(self,x): \n",
        "      # Declarando la arquitectura\n",
        "\n",
        "      l1 = tf.add(tf.matmul(x,self.h1LW), self.h1LB)\n",
        "      l1 = tf.nn.relu(l1)\n",
        "\n",
        "      l2 = tf.add(tf.matmul(l1,self.h2LW), self.h2LB)\n",
        "      l2 = tf.nn.relu(l2)\n",
        "\n",
        "      l3 = tf.add(tf.matmul(l2,self.h3LW), self.h3LB)\n",
        "      l3 = tf.nn.relu(l3)\n",
        "\n",
        "      output = tf.matmul(l3,self.outW) + self.outB\n",
        "      return output\n",
        "  "
      ],
      "execution_count": 0,
      "outputs": []
    },
    {
      "cell_type": "code",
      "metadata": {
        "colab_type": "code",
        "id": "SB_ocuTDRpm2",
        "outputId": "a807836e-4c0c-4209-b9c7-7c167ae28a40",
        "colab": {
          "base_uri": "https://localhost:8080/",
          "height": 363
        }
      },
      "source": [
        "DNN = DNN_model()\n",
        "DNN(x_train[24:30])"
      ],
      "execution_count": 0,
      "outputs": [
        {
          "output_type": "execute_result",
          "data": {
            "text/plain": [
              "<tf.Tensor: shape=(6, 10), dtype=float32, numpy=\n",
              "array([[1.68576942e+11, 1.68257520e+11, 1.69268429e+11, 1.74542291e+11,\n",
              "        1.76712155e+11, 1.70714202e+11, 1.68716501e+11, 1.75066022e+11,\n",
              "        1.71204641e+11, 1.72010930e+11],\n",
              "       [3.12308597e+11, 3.11716053e+11, 3.13589236e+11, 3.23359736e+11,\n",
              "        3.27379583e+11, 3.16267561e+11, 3.12566514e+11, 3.24330553e+11,\n",
              "        3.17176513e+11, 3.18669881e+11],\n",
              "       [1.04213176e+11, 1.04015471e+11, 1.04640643e+11, 1.07900740e+11,\n",
              "        1.09242155e+11, 1.05534112e+11, 1.04299430e+11, 1.08224831e+11,\n",
              "        1.05837724e+11, 1.06335920e+11],\n",
              "       [3.52327565e+11, 3.51659295e+11, 3.53772569e+11, 3.64794937e+11,\n",
              "        3.69330127e+11, 3.56793975e+11, 3.52618545e+11, 3.65890241e+11,\n",
              "        3.57819384e+11, 3.59504151e+11],\n",
              "       [3.19309677e+11, 3.18704124e+11, 3.20619577e+11, 3.30608640e+11,\n",
              "        3.34718927e+11, 3.23357213e+11, 3.19573492e+11, 3.31601150e+11,\n",
              "        3.24287070e+11, 3.25813699e+11],\n",
              "       [1.20686658e+11, 1.20457912e+11, 1.21182028e+11, 1.24957590e+11,\n",
              "        1.26510891e+11, 1.22216735e+11, 1.20786502e+11, 1.25332562e+11,\n",
              "        1.22567975e+11, 1.23145241e+11]], dtype=float32)>"
            ]
          },
          "metadata": {
            "tags": []
          },
          "execution_count": 13
        }
      ]
    },
    {
      "cell_type": "markdown",
      "metadata": {
        "id": "IOibydeqEJem",
        "colab_type": "text"
      },
      "source": [
        "Seleccionar un optimizador "
      ]
    },
    {
      "cell_type": "code",
      "metadata": {
        "id": "A1on8R5B5sLw",
        "colab_type": "code",
        "colab": {}
      },
      "source": [
        "#optimizador = tf.keras.optimizers.Adam(learning_rate=.001 )\n",
        "optimizador = tf.compat.v1.train.AdamOptimizer(learning_rate=0.001)"
      ],
      "execution_count": 0,
      "outputs": []
    },
    {
      "cell_type": "markdown",
      "metadata": {
        "id": "ZTAlRDeyAo_7",
        "colab_type": "text"
      },
      "source": [
        "### Definir las metricas a usar"
      ]
    },
    {
      "cell_type": "code",
      "metadata": {
        "id": "GrMfhkpuAug4",
        "colab_type": "code",
        "colab": {}
      },
      "source": [
        "train_loss = tf.keras.metrics.Mean(name='train_loss')\n",
        "train_accuracy = tf.keras.metrics.CategoricalAccuracy(name='train_accuracy')\n",
        "\n",
        "test_loss = tf.keras.metrics.Mean(name='test_loss')\n",
        "test_accuracy = tf.keras.metrics.CategoricalAccuracy(name='test_accuracy')"
      ],
      "execution_count": 0,
      "outputs": []
    },
    {
      "cell_type": "markdown",
      "metadata": {
        "colab_type": "text",
        "id": "cnND6eokQQyb"
      },
      "source": [
        "### Calculo de gradientes y ajuste "
      ]
    },
    {
      "cell_type": "code",
      "metadata": {
        "id": "BTTZsKgM_5U3",
        "colab_type": "code",
        "colab": {}
      },
      "source": [
        "@tf.function\n",
        "def train_step(model,tdata, labels):\n",
        "  with tf.GradientTape() as tape:\n",
        "    predictions = model(tdata)\n",
        "    #calculo de una funcion de error \n",
        "    loss = tf.reduce_mean(tf.nn.softmax_cross_entropy_with_logits(labels, predictions))\n",
        "   \n",
        "  gradients = tape.gradient(loss, model.trainable_variables)\n",
        "  capped_grads_and_vars = [(grad,model.trainable_variables[index]) for index, grad in enumerate(gradients)]\n",
        "  optimizador.apply_gradients(capped_grads_and_vars)\n",
        "  train_loss(loss)\n",
        "  train_accuracy(labels, predictions)"
      ],
      "execution_count": 0,
      "outputs": []
    },
    {
      "cell_type": "code",
      "metadata": {
        "id": "CZC1YbJ1D01G",
        "colab_type": "code",
        "colab": {}
      },
      "source": [
        "#train_step(DNN,x_train[24:30], y_train_onehot[24:30])"
      ],
      "execution_count": 0,
      "outputs": []
    },
    {
      "cell_type": "code",
      "metadata": {
        "id": "97g8_iaQPtUk",
        "colab_type": "code",
        "colab": {}
      },
      "source": [
        "@tf.function\n",
        "def test_step(model,tdata, labels):\n",
        "  predictions = model(tdata)\n",
        "  t_loss =  tf.reduce_mean(tf.nn.softmax_cross_entropy_with_logits(labels, predictions))\n",
        "\n",
        "  test_loss(t_loss)\n",
        "  test_accuracy(labels, predictions)"
      ],
      "execution_count": 0,
      "outputs": []
    },
    {
      "cell_type": "code",
      "metadata": {
        "id": "0lhnGNHMP6Kq",
        "colab_type": "code",
        "colab": {}
      },
      "source": [
        "#test_step(DNN,x_train[24:30], y_train_onehot[24:30])"
      ],
      "execution_count": 0,
      "outputs": []
    },
    {
      "cell_type": "markdown",
      "metadata": {
        "id": "SXi8dwZEN4fe",
        "colab_type": "text"
      },
      "source": [
        "## función de entrenamiento  y prueba"
      ]
    },
    {
      "cell_type": "code",
      "metadata": {
        "id": "BKZfZ5G4BKlp",
        "colab_type": "code",
        "colab": {}
      },
      "source": [
        "\n",
        "def fitting(model,train_x,train_y,test_x,test_y,EPOCHS,N_batch,batch_size):\n",
        "  for epoch in range(EPOCHS):\n",
        "    i=0\n",
        "    while i+batch_size < len(train_x) or i+batch_size<batch_size*N_batch:\n",
        "      start = i\n",
        "      end = i+batch_size\n",
        "      batch_x = train_x[start:end]\n",
        "      batch_y = train_y[start:end]\n",
        "      train_step(model,batch_x,batch_y)\n",
        "      i+=batch_size\n",
        "\n",
        "    test_step(model,test_x,test_y)\n",
        "      \n",
        "    template = 'Epoch {}, Perdida: {}, Exactitud: {}, Perdida de prueba: {}, Exactitud de prueba: {}'\n",
        "    print(template.format(epoch+1,\n",
        "                         train_loss.result(),\n",
        "                        train_accuracy.result()*100,\n",
        "                        test_loss.result(),\n",
        "                        test_accuracy.result()*100))\n",
        "    train_loss.reset_states()\n",
        "    train_accuracy.reset_states()\n",
        "    test_loss.reset_states()\n",
        "    test_accuracy.reset_states()\n",
        "\n",
        "  \n",
        "    "
      ],
      "execution_count": 0,
      "outputs": []
    },
    {
      "cell_type": "code",
      "metadata": {
        "colab_type": "code",
        "id": "QFKfo19DRpnB",
        "outputId": "3ed5a542-933d-4c94-8635-8a5c5693e136",
        "colab": {
          "base_uri": "https://localhost:8080/",
          "height": 199
        }
      },
      "source": [
        "fitting(DNN,x_train,y_train_onehot,x_test,y_test_onehot,10,600,100)"
      ],
      "execution_count": 0,
      "outputs": [
        {
          "output_type": "stream",
          "text": [
            "Epoch 1, Perdida: 156492352.0, Exactitud: 10.413188934326172, Perdida de prueba: 20556730.0, Exactitud de prueba: 11.0\n",
            "Epoch 2, Perdida: 3673320.0, Exactitud: 40.54758071899414, Perdida de prueba: 623956.3125, Exactitud de prueba: 55.150001525878906\n",
            "Epoch 3, Perdida: 466987.125, Exactitud: 66.09014892578125, Perdida de prueba: 378550.09375, Exactitud de prueba: 65.04000091552734\n",
            "Epoch 4, Perdida: 267082.96875, Exactitud: 72.5559310913086, Perdida de prueba: 212277.484375, Exactitud de prueba: 74.8499984741211\n",
            "Epoch 5, Perdida: 187900.671875, Exactitud: 78.15692901611328, Perdida de prueba: 117667.59375, Exactitud de prueba: 81.63999938964844\n",
            "Epoch 6, Perdida: 121689.5078125, Exactitud: 81.8514175415039, Perdida de prueba: 117527.9140625, Exactitud de prueba: 81.70999908447266\n",
            "Epoch 7, Perdida: 83679.828125, Exactitud: 84.28380584716797, Perdida de prueba: 49811.9375, Exactitud de prueba: 87.95999908447266\n",
            "Epoch 8, Perdida: 46622.296875, Exactitud: 87.55426025390625, Perdida de prueba: 25577.228515625, Exactitud de prueba: 90.69999694824219\n",
            "Epoch 9, Perdida: 25376.41796875, Exactitud: 88.77294921875, Perdida de prueba: 18086.806640625, Exactitud de prueba: 89.58000183105469\n",
            "Epoch 10, Perdida: 14987.6875, Exactitud: 88.48915100097656, Perdida de prueba: 10046.5263671875, Exactitud de prueba: 88.36000061035156\n"
          ],
          "name": "stdout"
        }
      ]
    },
    {
      "cell_type": "code",
      "metadata": {
        "colab_type": "code",
        "id": "ZPmx9GG0RpnE",
        "colab": {}
      },
      "source": [
        ""
      ],
      "execution_count": 0,
      "outputs": []
    },
    {
      "cell_type": "code",
      "metadata": {
        "id": "TCzLEZkRic_S",
        "colab_type": "code",
        "colab": {}
      },
      "source": [
        ""
      ],
      "execution_count": 0,
      "outputs": []
    },
    {
      "cell_type": "code",
      "metadata": {
        "id": "J8_TTXpKeYH6",
        "colab_type": "code",
        "colab": {}
      },
      "source": [
        ""
      ],
      "execution_count": 0,
      "outputs": []
    },
    {
      "cell_type": "code",
      "metadata": {
        "id": "gl_1khMw1xDc",
        "colab_type": "code",
        "colab": {}
      },
      "source": [
        ""
      ],
      "execution_count": 0,
      "outputs": []
    }
  ]
}