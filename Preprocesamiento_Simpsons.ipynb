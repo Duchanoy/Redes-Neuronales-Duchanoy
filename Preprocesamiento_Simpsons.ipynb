{
  "nbformat": 4,
  "nbformat_minor": 0,
  "metadata": {
    "colab": {
      "name": "Untitled6.ipynb",
      "provenance": [],
      "authorship_tag": "ABX9TyMXrb+yUd9OKuveD0464i/s",
      "include_colab_link": true
    },
    "kernelspec": {
      "name": "python3",
      "display_name": "Python 3"
    }
  },
  "cells": [
    {
      "cell_type": "markdown",
      "metadata": {
        "id": "view-in-github",
        "colab_type": "text"
      },
      "source": [
        "<a href=\"https://colab.research.google.com/github/alfredoEP/Redes-Neuronales-Duchanoy/blob/master/Preprocesamiento_Simpsons.ipynb\" target=\"_parent\"><img src=\"https://colab.research.google.com/assets/colab-badge.svg\" alt=\"Open In Colab\"/></a>"
      ]
    },
    {
      "cell_type": "code",
      "metadata": {
        "id": "us5f77LbeZuf",
        "colab_type": "code",
        "colab": {}
      },
      "source": [
        "import numpy as np\n",
        "import matplotlib.pyplot as plt\n",
        "from skimage import data, filters, exposure, io, color\n",
        "from skimage.transform import rescale, resize, downscale_local_mean\n",
        "from google.colab import files"
      ],
      "execution_count": 0,
      "outputs": []
    },
    {
      "cell_type": "code",
      "metadata": {
        "id": "cvoHelkag8z_",
        "colab_type": "code",
        "colab": {}
      },
      "source": [
        "temp_ls = !ls\n",
        "ls=[]\n",
        "for i in temp_ls:\n",
        "  ls.append(i.replace('\\t','  '))\n",
        "\n",
        "for i,j in enumerate(ls):\n",
        "  ls[i] = j.split('  ')\n",
        "\n",
        "new_ls = []\n",
        "for i in ls:\n",
        "  for j in i:\n",
        "    new_ls.append(j)\n",
        "ls = new_ls"
      ],
      "execution_count": 0,
      "outputs": []
    },
    {
      "cell_type": "code",
      "metadata": {
        "id": "ti4Y3XlRp1N0",
        "colab_type": "code",
        "colab": {}
      },
      "source": [
        "matriz = []\n",
        "for i in ls:\n",
        "  matriz.append(plt.imread(i))\n",
        "matriz = np.array(matriz)\n",
        "\n",
        "lenMatriz = []\n",
        "for i in matriz:\n",
        "  lenMatriz.append([len(i),len(i[0])])\n",
        "lenMatriz = np.array(lenMatriz)"
      ],
      "execution_count": 0,
      "outputs": []
    },
    {
      "cell_type": "code",
      "metadata": {
        "id": "4DJYE6FEuv49",
        "colab_type": "code",
        "colab": {}
      },
      "source": [
        "altura_máxima = 100; ancho_máximo = 300"
      ],
      "execution_count": 0,
      "outputs": []
    },
    {
      "cell_type": "code",
      "metadata": {
        "id": "R6zc-AL2xwAz",
        "colab_type": "code",
        "colab": {}
      },
      "source": [
        "for i, imagen in enumerate(matriz):\n",
        "  nuevo_ancho = np.round( imagen.shape[1] * (altura_máxima / imagen.shape[0]) )\n",
        "  matriz[i] = resize(imagen, (altura_máxima,nuevo_ancho), anti_aliasing=True)"
      ],
      "execution_count": 0,
      "outputs": []
    },
    {
      "cell_type": "code",
      "metadata": {
        "id": "9IB_8mxMKFdL",
        "colab_type": "code",
        "colab": {}
      },
      "source": [
        "for i, imagen in enumerate(matriz):\n",
        "  desplazamiento = ancho_máximo - imagen.shape[1]\n",
        "  if(desplazamiento%2==1):\n",
        "    relleno_izq = ( desplazamiento - 1 ) / 2\n",
        "    relleno_der = relleno_izq + 1\n",
        "  else:\n",
        "    relleno_izq = relleno_der = desplazamiento / 2\n",
        "\n",
        "  relleno_izq = np.zeros(relleno_izq)\n",
        "  relleno_der = np.zeros(relleno_der)\n",
        "\n",
        "  matriz[i] = resize(imagen, (altura_máxima,nuevo_ancho), anti_aliasing=True)"
      ],
      "execution_count": 0,
      "outputs": []
    },
    {
      "cell_type": "code",
      "metadata": {
        "id": "G8U6gkvZNKzE",
        "colab_type": "code",
        "colab": {
          "base_uri": "https://localhost:8080/",
          "height": 34
        },
        "outputId": "2b51436b-38f7-451e-dacf-eea2096907b8"
      },
      "source": [
        "desplazamiento = ancho_máximo - matriz[1].shape[1]\n",
        "print(desplazamiento,desplazamiento%2)"
      ],
      "execution_count": 177,
      "outputs": [
        {
          "output_type": "stream",
          "text": [
            "231 1\n"
          ],
          "name": "stdout"
        }
      ]
    },
    {
      "cell_type": "code",
      "metadata": {
        "id": "YcOyFYIINWVo",
        "colab_type": "code",
        "colab": {}
      },
      "source": [
        "relleno_izq = (desplazamiento-1)/2"
      ],
      "execution_count": 0,
      "outputs": []
    },
    {
      "cell_type": "code",
      "metadata": {
        "id": "uUkgJvsfNjQ3",
        "colab_type": "code",
        "colab": {}
      },
      "source": [
        "relleno_der = relleno_izq + 1"
      ],
      "execution_count": 0,
      "outputs": []
    },
    {
      "cell_type": "code",
      "metadata": {
        "id": "bPQv8YD7N-XS",
        "colab_type": "code",
        "colab": {
          "base_uri": "https://localhost:8080/",
          "height": 34
        },
        "outputId": "26d7795b-d59f-45f2-fa20-42e92bd4c49f"
      },
      "source": [
        "relleno_izq, relleno_der"
      ],
      "execution_count": 183,
      "outputs": [
        {
          "output_type": "execute_result",
          "data": {
            "text/plain": [
              "(115.0, 116.0)"
            ]
          },
          "metadata": {
            "tags": []
          },
          "execution_count": 183
        }
      ]
    },
    {
      "cell_type": "code",
      "metadata": {
        "id": "kFZ5E-1aOAXA",
        "colab_type": "code",
        "colab": {}
      },
      "source": [
        "relleno_izq = relleno_der = desplazamiento / 2"
      ],
      "execution_count": 0,
      "outputs": []
    },
    {
      "cell_type": "code",
      "metadata": {
        "id": "JEjZ13iQOPsJ",
        "colab_type": "code",
        "colab": {
          "base_uri": "https://localhost:8080/",
          "height": 34
        },
        "outputId": "0beb2cd3-3abf-44ae-d0b0-ad2299bfdc92"
      },
      "source": [
        "relleno_der, relleno_izq"
      ],
      "execution_count": 185,
      "outputs": [
        {
          "output_type": "execute_result",
          "data": {
            "text/plain": [
              "(115.5, 115.5)"
            ]
          },
          "metadata": {
            "tags": []
          },
          "execution_count": 185
        }
      ]
    },
    {
      "cell_type": "code",
      "metadata": {
        "id": "RzezrWEeOSWP",
        "colab_type": "code",
        "colab": {}
      },
      "source": [
        ""
      ],
      "execution_count": 0,
      "outputs": []
    }
  ]
}